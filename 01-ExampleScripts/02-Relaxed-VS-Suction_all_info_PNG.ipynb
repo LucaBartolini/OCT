{
 "cells": [
  {
   "cell_type": "markdown",
   "metadata": {},
   "source": [
    "# Post processing and plotting\n",
    "This notebook requires the `.bz2` file created in the previous notebook `01-ExampleScripts\\01-RAWdata_to_Results.ipynb`, by analyzing the folder `02-ExampleData\\PDMS_phantom`, with the analysis setting `save_zip` set to `True`."
   ]
  },
  {
   "cell_type": "code",
   "execution_count": null,
   "metadata": {
    "code_folding": [
     0
    ]
   },
   "outputs": [],
   "source": [
    "## imports\n",
    "import os \n",
    "import sys\n",
    "import numpy as np\n",
    "import cv2 as cv\n",
    "\n",
    "from skimage import data, img_as_float\n",
    "from skimage.segmentation import (morphological_chan_vese, checkerboard_level_set)\n",
    "from scipy.stats import skew\n",
    "\n",
    "import bz2 # to zip the pickle file: \n",
    "import pickle # to read the OCT_lib.bscan object\n",
    "\n",
    "sys.path.insert(0,'../')\n",
    "import OCT_lib\n",
    "\n",
    "%matplotlib nbagg\n",
    "import matplotlib.pyplot as plt"
   ]
  },
  {
   "cell_type": "markdown",
   "metadata": {},
   "source": [
    "### Reading in the results of the previous notebook\n",
    "The following cell reads the bz2 file that was created during the analysis in the example notebook `01-RAWdata_to_results` on the `02-ExampleData\\PDMS_phantom` folder\n",
    "\n",
    "### IMPORTANT NOTE\n",
    "When running the following cell, the file selector prompt is sometimes **hidden** below the browser. If nothing seems to happen, please look under its window."
   ]
  },
  {
   "cell_type": "code",
   "execution_count": null,
   "metadata": {},
   "outputs": [],
   "source": [
    "basepath = r\"..//02-ExampleData\" \n",
    "data, basepath = OCT_lib.get_results(initialdir=basepath)\n",
    "\n",
    "folder_name = data.pop('name')\n",
    "p = data.pop('params') # p is the dict with all previous analysis settings\n",
    "data = data.pop('results') # this is where the image and the profile of each experiment are stored\n",
    "experiments = list(data.keys()) # names of all files\n",
    "\n",
    "## A HW timing inconsistency results in the image sometimes having an extra A-scan. \n",
    "## let's clean that:\n",
    "lengths = [len(data[experiment]['profile']) for experiment in experiments]\n",
    "min_len = min(lengths)\n",
    "for experiment in experiments:\n",
    "    if len(data[experiment]['profile']) > min_len:\n",
    "        data[experiment]['profile'] = data[experiment]['profile'][:min_len]"
   ]
  },
  {
   "cell_type": "markdown",
   "metadata": {},
   "source": [
    "### Conversions px to real distance\n",
    "The following cell creates:\n",
    " - `hor` the lost of x positions along the b-scan\n",
    " - `px_to_d_vert` the Optical-Path-difference of a pixel, corresponds to the physical height if index of refraction == 1"
   ]
  },
  {
   "cell_type": "code",
   "execution_count": null,
   "metadata": {},
   "outputs": [],
   "source": [
    "# the physical width (mm) is divided by the number of columns (A-scans) that it takes to image it\n",
    "width_Bscan = p['OCT']['aperture_size'] # assuming the BSCAN acquired at the max width of the aperture\n",
    "px_to_d_hor = width_Bscan/len(data[experiments[0]][\"profile\"]) \n",
    "hor = np.squeeze(np.arange(0,p['OCT']['aperture_size'],px_to_d_hor))\n",
    "\n",
    "# the axial resolution of the OCT is 5.75 um/px for an ascanlength of 1024 elements\n",
    "# The following expression also considers the case in which the image has been resized\n",
    "px_to_d_vert = p['OCT']['axial_res']/(p['resize']['height_factor'] if p['resize']['switch'] else 1)"
   ]
  },
  {
   "cell_type": "markdown",
   "metadata": {},
   "source": [
    "## Profile height\n",
    "The following cell creates the dictionary `deltaZ` that stores all the profile heights \n",
    "for each measurement (`reps`), for each condition (`rel` relaxed, or `suc` under suction), and for each region (`thin`, `thick`, `boundary`)"
   ]
  },
  {
   "cell_type": "code",
   "execution_count": null,
   "metadata": {},
   "outputs": [],
   "source": [
    "# for this particular set of measurements on PDMS\n",
    "regions = ['thin', 'thick', 'boundary']\n",
    "# repeated measurements\n",
    "reps = ['001', '002', '003', '004', '005']\n",
    "N_locs = len(regions) # locations\n",
    "\n",
    "# `deltaZ` blueprint -> profile[region][rep]\n",
    "deltaZ = {}\n",
    "for i, meas in enumerate(data.keys()): # iterate over all meeasurements \n",
    "    for region in regions: # iterate over the three regions\n",
    "        deltaZ[region]=[]\n",
    "        for rep in reps: # iterate over the repeated \n",
    "            name_rel = region+'_rel_'+rep\n",
    "            name_suc = f\"{region}_suc_{rep}\"\n",
    "            deltaZ[region].append(\n",
    "                np.squeeze(np.array(\n",
    "                    ((data[name_suc][\"profile\"])-(data[name_suc][\"profile\"][0])) -\n",
    "                    ((data[name_rel][\"profile\"])-(data[name_rel][\"profile\"][0]))                    \n",
    "                )*-px_to_d_vert)\n",
    "            )"
   ]
  },
  {
   "cell_type": "code",
   "execution_count": null,
   "metadata": {},
   "outputs": [],
   "source": [
    "# used for Asymmetry Factor calculations\n",
    "peak_cut = 0.2 # fraction of the profile height that is taken into consideration for AF calcs\n",
    "\n",
    "for region in regions:\n",
    "    for i,rep in enumerate(reps):\n",
    "        name_rel = f\"{region}_rel_{rep}\"\n",
    "        name_suc = f\"{region}_suc_{rep}\"\n",
    "        height, width = data[name_rel]['image'].shape\n",
    "        \n",
    "        delta_z = deltaZ[region][i]\n",
    "        delta_z_sm = OCT_lib.smooth_profile(delta_z)\n",
    "        x_range = OCT_lib.center_profile(hor, delta_z_sm)\n",
    "        \n",
    "        peak_z = max(delta_z_sm)\n",
    "        peak_idx = int(np.argwhere(delta_z_sm == peak_z)[0])\n",
    "        peak_left_idx  = int(np.argwhere(delta_z_sm > peak_z*peak_cut)[0]) \n",
    "        peak_right_idx = int(np.argwhere(delta_z_sm > peak_z*peak_cut)[-1]) \n",
    "        peak_base_middle_idx = int((peak_right_idx+peak_left_idx)/2) #used for AF3\n",
    "        \n",
    "        fig, ax = plt.subplots(nrows=2, ncols=2)\n",
    "\n",
    "        ax[0,0].imshow(data[name_rel]['image'], cmap='gray', extent=[0, width, 0, height])\n",
    "        ax[0,0].axis('off')\n",
    "        ax[0,0].plot(height-data[name_rel]['profile'], color='red', alpha=0.5)\n",
    "        # ax[0,0].scatter(peak_x, height-data[name_rel]['profile'][peak_x], s = 7, c='forestgreen', alpha=0.7, zorder = 200 )\n",
    "        ax[0,0].set_title(f\"Relaxed\")\n",
    "        \n",
    "        ax[0,1].imshow(data[name_suc]['image'], cmap='gray', extent=[0, width, 0, height])\n",
    "        ax[0,1].axis('off')\n",
    "        ax[0,1].plot(height-data[name_suc]['profile'], color='red', alpha=0.5)\n",
    "        # ax[0,1].scatter(peak_x, height-data[name_suc]['profile'][peak_x], s = 7, c='forestgreen', alpha=0.7, zorder = 200 ) \n",
    "        ax[0,1].set_title(f\"Suction = 500mbar\")\n",
    "        \n",
    "        ax[1,0].plot(x_range, delta_z, alpha=0.5, c = 'midnightblue', label = \"profile\")\n",
    "        ax[1,0].plot(x_range, delta_z_sm, zorder =100, c = 'red', linewidth = 1.7, label=\"smoothed\")\n",
    "        ax[1,0].set_xlim(left = -p['OCT']['aperture_size']/1.85, right = p['OCT']['aperture_size']/1.85)\n",
    "#         ax[1,0].axvline(x=0, c='grey', alpha =0.5)\n",
    "#         ax[1,0].axhline(y = max(delta_z_sm)*peak_cut, c='grey', alpha = 0.5)\n",
    "        ax[1,0].fill_between(\n",
    "            x = x_range[peak_base_middle_idx:peak_right_idx], \n",
    "            y2 = delta_z_sm[peak_base_middle_idx:peak_right_idx], \n",
    "            ## common\n",
    "            y1 = max(delta_z_sm)*peak_cut,\n",
    "            facecolor = \"forestgreen\",\n",
    "            alpha = 0.3)\n",
    "        ax[1,0].fill_between(\n",
    "            x = x_range[peak_left_idx:peak_base_middle_idx], \n",
    "            y2 = delta_z_sm[peak_left_idx:peak_base_middle_idx],\n",
    "            ## common\n",
    "            y1 = max(delta_z_sm)*peak_cut,\n",
    "            facecolor = \"red\",\n",
    "            alpha = 0.3)\n",
    "        ax[1,0].set(ylabel='$\\Delta$z ($\\mu$m)')\n",
    "        ax[1,0].set(xlabel='Position with respect to the peak (mm)')\n",
    "#         ax[1,0].legend()\n",
    "        ax[1,0].spines['bottom'].set_smart_bounds(True)\n",
    "        ax[1,0].spines['left'].set_smart_bounds(True)\n",
    "        ax[1,0].spines['top'].set_color('none')\n",
    "        ax[1,0].spines['right'].set_color('none')\n",
    "#         ax[1,0].spines['bottom'].set_position(('axes', -0.05))\n",
    "        \n",
    "    \n",
    "        af = OCT_lib.AF(delta_z_sm, peak_cutoff = peak_cut)\n",
    "        info = ''\\\n",
    "        f\"Max Delta Z = {max(delta_z_sm):.4}\\n\"\\\n",
    "        f\"Asymm. factor = {af:.2}\\n\"\\\n",
    "#         f\"Skewness = {skew(delta_z_sm):.4}\\n\"\n",
    "        ax[1,1].axis('off')\n",
    "        ax[1,1].annotate(info,(0.1, 0.5),xycoords='axes fraction', va='center')\n",
    "        \n",
    "        fig.tight_layout()\n",
    "        \n",
    "        sup_title = f\"B-scans and deformation measurement on '{region}-{rep}'\"\n",
    "        fig.suptitle(sup_title, fontsize=14)\n",
    "        fig.subplots_adjust(top=0.93)\n",
    "        \n",
    "        figname = os.path.join(basepath, 'processed', f\"{folder_name}_{region}{rep}_deltaZ.png\")\n",
    "        \n",
    "        fig.savefig(fname = figname, dpi = 450)\n",
    "        plt.close(fig)      \n"
   ]
  }
 ],
 "metadata": {
  "kernelspec": {
   "display_name": "Python 3",
   "language": "python",
   "name": "python3"
  },
  "language_info": {
   "codemirror_mode": {
    "name": "ipython",
    "version": 3
   },
   "file_extension": ".py",
   "mimetype": "text/x-python",
   "name": "python",
   "nbconvert_exporter": "python",
   "pygments_lexer": "ipython3",
   "version": "3.7.5"
  },
  "toc": {
   "base_numbering": 1,
   "nav_menu": {},
   "number_sections": true,
   "sideBar": true,
   "skip_h1_title": false,
   "title_cell": "Table of Contents",
   "title_sidebar": "Contents",
   "toc_cell": false,
   "toc_position": {},
   "toc_section_display": true,
   "toc_window_display": false
  },
  "varInspector": {
   "cols": {
    "lenName": 16,
    "lenType": 16,
    "lenVar": 40
   },
   "kernels_config": {
    "python": {
     "delete_cmd_postfix": "",
     "delete_cmd_prefix": "del ",
     "library": "var_list.py",
     "varRefreshCmd": "print(var_dic_list())"
    },
    "r": {
     "delete_cmd_postfix": ") ",
     "delete_cmd_prefix": "rm(",
     "library": "var_list.r",
     "varRefreshCmd": "cat(var_dic_list()) "
    }
   },
   "types_to_exclude": [
    "module",
    "function",
    "builtin_function_or_method",
    "instance",
    "_Feature"
   ],
   "window_display": false
  }
 },
 "nbformat": 4,
 "nbformat_minor": 2
}
