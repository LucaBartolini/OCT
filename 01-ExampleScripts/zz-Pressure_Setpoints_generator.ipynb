{
 "cells": [
  {
   "cell_type": "code",
   "execution_count": null,
   "metadata": {},
   "outputs": [],
   "source": [
    "import matplotlib.pyplot as plt\n",
    "import numpy as np\n",
    "import sys \n",
    "\n",
    "sys.path.insert(0, '../')\n",
    "import PressureSetPointGenerator"
   ]
  },
  {
   "cell_type": "markdown",
   "metadata": {},
   "source": [
    "# Generating a custom profile of pressure setpoints\n",
    "\n",
    "1. import the library `PressureSetPointGenerator`  \n",
    "2. create the `waveform` object. If you don't define a Bscan Rep.Rate, it assumes 33.3 Hz\n",
    "3. add custom sections: `add_ramp`, `add_flat`, or `add_oscillations`. \n",
    "4. See on a plot how the generated waveform looks\n",
    "5. Save it to a `csv` file that can be fed to LabView\n",
    "\n",
    "Remember:\n",
    "- To create sections, you are asked for positive \"suction\" values in mbar. Those are intendend as \"amount of mbar below atmospheric pressure\".\n"
   ]
  },
  {
   "cell_type": "code",
   "execution_count": null,
   "metadata": {},
   "outputs": [],
   "source": [
    "# This is what you set on LabView. It is used here so that you are able to provide the argument\n",
    "# `time` to the `add_SECTION` functions   \n",
    "my_BscanRepRate = 33.333 # Hz. \n",
    "\n",
    "# Initializing the object - It in now an empty container, we'll fill it in the next cell\n",
    "wf = PressureSetPointGenerator.waveform(Bscan_RepRate = my_BscanRepRate)\n",
    "\n",
    "## We create sections, one at a time. \n",
    "## Keep 1 second at 0 suction\n",
    "wf.add_flat(time = 1, level = 0);\n",
    "## Linearly reach 5mbar suction in 2 seconds\n",
    "wf.add_ramp(time = 2, to_suction = 500);\n",
    "## if `add_flat` doesn't receive a level, it keeps the pressure at the last one  \n",
    "wf.add_flat(time = 2);\n",
    "## The suction will oscillate between max_lvl and min_lvl, at the specified frequency\n",
    "## It will start at initial_phase_deg, and will be repeated N_osc\n",
    "wf.add_oscillations(freq = 1/3, max_lvl=500, min_lvl=200, N_osc=2, initial_phase_deg = 0);\n",
    "## After the oscillation, we'll go back down to no suction \n",
    "wf.add_flat(time =2)\n",
    "wf.add_ramp(time = 2, to_suction = 0)"
   ]
  },
  {
   "cell_type": "code",
   "execution_count": null,
   "metadata": {},
   "outputs": [],
   "source": [
    "# This is what you set on LabView. It is used here so that you are able to provide the argument\n",
    "# `time` to the `add_SECTION` functions   \n",
    "my_BscanRepRate = 33.333 # Hz. \n",
    "\n",
    "# Initializing the object - It in now an empty container, we'll fill it in the next cell\n",
    "wf = PressureSetPointGenerator.waveform(Bscan_RepRate = my_BscanRepRate)\n",
    "\n",
    "wf.add_flat(time = 0.5, level = 0);\n",
    "\n",
    "## Linearly reach 5mbar suction in 2 seconds\n",
    "wf.add_ramp(time = 3, to_suction = 500);\n",
    "wf.add_flat(time = 5);\n",
    "wf.add_ramp(time = 0.5, to_suction=0)\n",
    "wf.add_flat(time = 0.5);"
   ]
  },
  {
   "cell_type": "code",
   "execution_count": null,
   "metadata": {},
   "outputs": [],
   "source": [
    "# This is what you set on LabView. It is used here so that you are able to provide the argument\n",
    "# `time` to the `add_SECTION` functions   \n",
    "my_BscanRepRate = 33.33 # Hz. \n",
    "\n",
    "# Initializing the object - It in now an empty container, we'll fill it in the next cell\n",
    "wf = PressureSetPointGenerator.waveform(Bscan_RepRate = my_BscanRepRate)\n",
    "\n",
    "wf.add_flat(time = 0.5, level = 0);\n",
    "\n",
    "## Linearly reach 5mbar suction in 2 seconds\n",
    "wf.add_ramp(time = 3, to_suction = 200);\n",
    "wf.add_ramp(time = 3, to_suction = 0)\n",
    "wf.add_flat(time = 0.3);"
   ]
  },
  {
   "cell_type": "code",
   "execution_count": null,
   "metadata": {},
   "outputs": [],
   "source": [
    "## Let's see how the waveform looks live\n",
    "my_figure = wf.plot();"
   ]
  },
  {
   "cell_type": "code",
   "execution_count": null,
   "metadata": {},
   "outputs": [],
   "source": [
    "## The file to feed to LabView is written here.\n",
    "wf.to_csv('to200in2s_33Hz.csv')"
   ]
  },
  {
   "cell_type": "markdown",
   "metadata": {},
   "source": [
    "### We can also read the waveform back, from a file that we created before"
   ]
  },
  {
   "cell_type": "code",
   "execution_count": null,
   "metadata": {},
   "outputs": [],
   "source": [
    "input_filename = 'to200in2s_33Hz.csv'\n",
    "input_wf = PressureSetPointGenerator.waveform()\n",
    "input_wf.from_csv(input_filename)\n",
    "input_wf.plot()"
   ]
  }
 ],
 "metadata": {
  "kernelspec": {
   "display_name": "Python 3",
   "language": "python",
   "name": "python3"
  },
  "language_info": {
   "codemirror_mode": {
    "name": "ipython",
    "version": 3
   },
   "file_extension": ".py",
   "mimetype": "text/x-python",
   "name": "python",
   "nbconvert_exporter": "python",
   "pygments_lexer": "ipython3",
   "version": "3.7.5"
  },
  "toc": {
   "base_numbering": 1,
   "nav_menu": {},
   "number_sections": true,
   "sideBar": true,
   "skip_h1_title": false,
   "title_cell": "Table of Contents",
   "title_sidebar": "Contents",
   "toc_cell": false,
   "toc_position": {},
   "toc_section_display": true,
   "toc_window_display": false
  },
  "varInspector": {
   "cols": {
    "lenName": 16,
    "lenType": 16,
    "lenVar": 40
   },
   "kernels_config": {
    "python": {
     "delete_cmd_postfix": "",
     "delete_cmd_prefix": "del ",
     "library": "var_list.py",
     "varRefreshCmd": "print(var_dic_list())"
    },
    "r": {
     "delete_cmd_postfix": ") ",
     "delete_cmd_prefix": "rm(",
     "library": "var_list.r",
     "varRefreshCmd": "cat(var_dic_list()) "
    }
   },
   "types_to_exclude": [
    "module",
    "function",
    "builtin_function_or_method",
    "instance",
    "_Feature"
   ],
   "window_display": false
  }
 },
 "nbformat": 4,
 "nbformat_minor": 2
}
