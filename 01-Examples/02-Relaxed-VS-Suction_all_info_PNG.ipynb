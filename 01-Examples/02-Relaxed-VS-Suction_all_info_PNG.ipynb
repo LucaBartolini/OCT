{
 "cells": [
  {
   "cell_type": "code",
   "execution_count": 1,
   "metadata": {
    "code_folding": []
   },
   "outputs": [],
   "source": [
    "## imports\n",
    "import os \n",
    "\n",
    "import numpy as np\n",
    "import cv2 as cv\n",
    "\n",
    "%matplotlib nbagg\n",
    "# %matplotlib inline\n",
    "import matplotlib.pyplot as plt\n",
    "\n",
    "from skimage import data, img_as_float\n",
    "from skimage.segmentation import (morphological_chan_vese, checkerboard_level_set)\n",
    "from scipy.stats import skew\n",
    "\n",
    "import bz2 # to zip the pickle file: \n",
    "import pickle\n",
    "\n",
    "%reload_ext autoreload\n",
    "%autoreload 2\n",
    "%aimport OCT_lib"
   ]
  },
  {
   "cell_type": "code",
   "execution_count": 12,
   "metadata": {},
   "outputs": [
    {
     "name": "stdout",
     "output_type": "stream",
     "text": [
      "Dataset: \n",
      "C:/Users/lucab/Google Drive/01 - OCT/Measurements/20190410 - step PDMS 2\n",
      "successfully read\n"
     ]
    }
   ],
   "source": [
    "initial_path = r\"C:\\Users\\user\\Google Drive\\01 - OCT\\Measurements\\20190718_PDMS_Sample20180219_2\\\\\" \n",
    "\n",
    "# folder_name = os.path.basename(os.path.normpath(initial_path))\n",
    "\n",
    "## unpickling\n",
    "# VU U-021\n",
    "# pckl = r\"C:\\Users\\user\\Google Drive\\01 - OCT\\Measurements\\20190718_PDMS_Sample20180219_2\\processed\\20190718_PDMS_Sample20180219_2_processed.bz2\"\n",
    "# Home Desktop\n",
    "# pckl = r\"C:\\Users\\lucab\\Google Drive\\01 - OCT\\Measurements\\20190718_PDMS_Sample20180219_2\\processed\\20190718_PDMS_Sample20180219_2_processed.bz2\"\n",
    "\n",
    "#############\n",
    "# pckl = OCT_lib.get_file(initdir = initial_path, ext='bz2')\n",
    "\n",
    "# init_folder = os.path.dirname(pckl)\n",
    "\n",
    "# sfile = bz2.BZ2File(pckl, 'r')\n",
    "# data = pickle.loads(sfile.read())\n",
    "# sfile.close()\n",
    "\n",
    "# print(f\"Dataset: \\n{folder_name}\\nsuccessfully read\")\n",
    "#####\n",
    "initial_path = r\"/Users/lucab/Google Drive/01 - OCT/Measurements/20190410 - step PDMS 2\\processed\\\\\" \n",
    "data, basepath = OCT_lib.get_results(initialdir=initial_path)\n",
    "folder_name = data.pop('name')\n",
    "p = data.pop('params') # p is the dict with all previous analysis settings\n",
    "data = data.pop('results')\n",
    "experiments = list(data.keys()) "
   ]
  },
  {
   "cell_type": "code",
   "execution_count": null,
   "metadata": {},
   "outputs": [],
   "source": [
    "# for this particular set of measurements on PDMS (20190718_PDMS_Sample20180219_2)\n",
    "regions = ['thin', 'thick', 'boundary']\n",
    "# repeated measurements\n",
    "reps = ['001', '002', '003', '004', '005']\n",
    "\n",
    "N_locs = len(regions) # locations"
   ]
  },
  {
   "cell_type": "code",
   "execution_count": null,
   "metadata": {},
   "outputs": [],
   "source": [
    "## Conversions px to real distance\n",
    "\n",
    "# aperture size is p['OCT']['aperture_size'], divided by the number of columns (A-scans) that it takes to image it\n",
    "# assuming the data has been acquired at the maximum width of the aperture\n",
    "px_to_d_hor = p['OCT']['aperture_size']/len(data[experiments[0]][\"profile\"]) \n",
    "hor = np.squeeze(np.arange(0,p['OCT']['aperture_size'],px_to_d_hor))\n",
    "\n",
    "# the axial resolution of the OCT is 5.75 um/px for an ascanlength of 1024 elements\n",
    "# The following expression also considers the case in which the image has been resized\n",
    "px_to_d_vert = p['OCT']['axial_res']/(p['resize']['height_factor'] if p['resize']['switch'] else 1)"
   ]
  },
  {
   "cell_type": "code",
   "execution_count": null,
   "metadata": {},
   "outputs": [],
   "source": [
    "# `deltaZ` blueprint -> profile[region][rep]\n",
    "deltaZ = {}\n",
    "for i, meas in enumerate(data.keys()): # iterate over all meeasurements \n",
    "    for region in regions: # iterate over the three regions\n",
    "        deltaZ[region]=[]\n",
    "        for rep in reps: # iterate over the repeated \n",
    "            name_rel = region+'_rel_'+rep\n",
    "            name_suc = f\"{region}_suc_{rep}\"\n",
    "            deltaZ[region].append(\n",
    "                np.squeeze(np.array(\n",
    "                    ((data[name_suc][\"profile\"])-(data[name_suc][\"profile\"][0])) -\n",
    "                    ((data[name_rel][\"profile\"])-(data[name_rel][\"profile\"][0]))                    \n",
    "                )*-px_to_d_vert)\n",
    "            )"
   ]
  },
  {
   "cell_type": "code",
   "execution_count": null,
   "metadata": {},
   "outputs": [],
   "source": [
    "# used for Asymmetry Factor calculations\n",
    "peak_cut = 0.2\n",
    "\n",
    "for region in regions:\n",
    "    for i,rep in enumerate(reps):\n",
    "        name_rel = f\"{region}_rel_{rep}\"\n",
    "        name_suc = f\"{region}_suc_{rep}\"\n",
    "        height, width = data[name_rel]['image'].shape\n",
    "        \n",
    "        delta_z = deltaZ[region][i]\n",
    "        delta_z_sm = OCT_lib.smooth_profile(delta_z)\n",
    "        x_range = OCT_lib.center_profile(hor, delta_z_sm)\n",
    "        \n",
    "        peak_z = max(delta_z_sm)\n",
    "        peak_idx = int(np.argwhere(delta_z_sm == peak_z)[0])\n",
    "        peak_left_idx  = int(np.argwhere(delta_z_sm > peak_z*peak_cut)[0]) \n",
    "        peak_right_idx = int(np.argwhere(delta_z_sm > peak_z*peak_cut)[-1]) \n",
    "        peak_base_middle_idx = int((peak_right_idx+peak_left_idx)/2) #used for AF3\n",
    "        \n",
    "        fig, ax = plt.subplots(nrows=2, ncols=2)\n",
    "\n",
    "        ax[0,0].imshow(data[name_rel]['image'], cmap='gray', extent=[0, width, 0, height])\n",
    "        ax[0,0].axis('off')\n",
    "        ax[0,0].plot(height-data[name_rel]['profile'], color='red', alpha=0.5)\n",
    "        ax[0,0].scatter(peak_x, height-data[name_rel]['profile'][peak_x], s = 7, c='forestgreen', alpha=0.7, zorder = 200 )\n",
    "        ax[0,0].set_title(f\"Relaxed\")\n",
    "        \n",
    "        ax[0,1].imshow(data[name_suc]['image'], cmap='gray', extent=[0, width, 0, height])\n",
    "        ax[0,1].axis('off')\n",
    "        ax[0,1].plot(height-data[name_suc]['profile'], color='red', alpha=0.5)\n",
    "        ax[0,1].scatter(peak_x, height-data[name_suc]['profile'][peak_x], s = 7, c='forestgreen', alpha=0.7, zorder = 200 ) \n",
    "        ax[0,1].set_title(f\"Suction = 500mbar\")\n",
    "        \n",
    "        ax[1,0].plot(x_range, delta_z, alpha=0.5, c = 'midnightblue', label = \"profile\")\n",
    "        ax[1,0].plot(x_range, delta_z_sm, zorder =100, c = 'red', linewidth = 1.7, label=\"smoothed\")\n",
    "        ax[1,0].set_xlim(left = -p['OCT']['aperture_size']/1.85, right = p['OCT']['aperture_size']/1.85)\n",
    "#         ax[1,0].axvline(x=0, c='grey', alpha =0.5)\n",
    "#         ax[1,0].axhline(y = max(delta_z_sm)*peak_cut, c='grey', alpha = 0.5)\n",
    "\n",
    "        ax[1,0].fill_between(\n",
    "            ## AF2\n",
    "#             x  = x_range[np.logical_and(x_range>0, delta_z_sm > max(delta_z_sm)*peak_cut )], \n",
    "#             y2 = delta_z_sm[np.logical_and(x_range>0, delta_z_sm > max(delta_z_sm)*peak_cut)],\n",
    "            ## AF3\n",
    "            x = x_range[peak_base_middle_idx:peak_right_idx], \n",
    "            y2 = delta_z_sm[peak_base_middle_idx:peak_right_idx], \n",
    "            ## common\n",
    "            y1 = max(delta_z_sm)*peak_cut,\n",
    "            facecolor = \"forestgreen\",\n",
    "            alpha = 0.3)\n",
    "        ax[1,0].fill_between(\n",
    "            ## AF2            \n",
    "#             x  = x_range[np.logical_and(x_range<0, delta_z_sm > max(delta_z_sm)*peak_cut )], \n",
    "#             y2 = delta_z_sm[np.logical_and(x_range<0, delta_z_sm > max(delta_z_sm)*peak_cut)],\n",
    "            ## AF3\n",
    "            x = x_range[peak_left_idx:peak_base_middle_idx], \n",
    "            y2 = delta_z_sm[peak_left_idx:peak_base_middle_idx],\n",
    "            ## common\n",
    "            y1 = max(delta_z_sm)*peak_cut,\n",
    "            facecolor = \"red\",\n",
    "            alpha = 0.3)\n",
    "        \n",
    "        ax[1,0].set(ylabel='$\\Delta$z ($\\mu$m)')\n",
    "        ax[1,0].set(xlabel='Position with respect to the peak (mm)')\n",
    "#         ax[1,0].legend()\n",
    "        ax[1,0].spines['bottom'].set_smart_bounds(True)\n",
    "        ax[1,0].spines['left'].set_smart_bounds(True)\n",
    "        ax[1,0].spines['top'].set_color('none')\n",
    "        ax[1,0].spines['right'].set_color('none')\n",
    "#         ax[1,0].spines['bottom'].set_position(('axes', -0.05))\n",
    "        \n",
    "        af1, af2, af3 = OCT_lib.asymmetry_factor(delta_z_sm, peak_cutoff = peak_cut)\n",
    "        info = ''\\\n",
    "        f\"Max Delta Z = {max(delta_z_sm):.4}\\n\"\\\n",
    "        f\"Asymm. factor 1 = {af1:.2}\\n\"\\\n",
    "        f\"Asymm. factor 2 = {af2:.2}\\n\"\\\n",
    "        f\"Asymm. factor 3 = {af3:.2}\\n\"\\\n",
    "        f\"Sign(af2) * af1 = {np.sign(af2)*af1:.3}\\n\"\\\n",
    "        f\"Sign(af3) * af1 = {np.sign(af3)*af1:.3}\\n\"\n",
    "#         f\"Skewness = {skew(delta_z_sm):.4}\\n\"\n",
    "        ax[1,1].axis('off')\n",
    "        ax[1,1].annotate(info,(0.1, 0.5),xycoords='axes fraction', va='center')\n",
    "        \n",
    "        fig.tight_layout()\n",
    "        \n",
    "        sup_title = f\"B-scans and deformation measurement on '{region}-{rep}'\"\n",
    "        fig.suptitle(sup_title, fontsize=14)\n",
    "        fig.subplots_adjust(top=0.93)\n",
    "        \n",
    "        figname = f\"{init_folder}\\\\{sup_title}_CV.png\"\n",
    "        fig.savefig(fname = figname, dpi = 450)\n",
    "        plt.close(fig)        \n",
    "        \n",
    "#         break\n",
    "#     break\n"
   ]
  },
  {
   "cell_type": "code",
   "execution_count": null,
   "metadata": {},
   "outputs": [],
   "source": []
  },
  {
   "cell_type": "code",
   "execution_count": null,
   "metadata": {},
   "outputs": [],
   "source": []
  },
  {
   "cell_type": "code",
   "execution_count": null,
   "metadata": {},
   "outputs": [],
   "source": []
  }
 ],
 "metadata": {
  "kernelspec": {
   "display_name": "Python 3",
   "language": "python",
   "name": "python3"
  },
  "language_info": {
   "codemirror_mode": {
    "name": "ipython",
    "version": 3
   },
   "file_extension": ".py",
   "mimetype": "text/x-python",
   "name": "python",
   "nbconvert_exporter": "python",
   "pygments_lexer": "ipython3",
   "version": "3.6.7"
  },
  "toc": {
   "base_numbering": 1,
   "nav_menu": {},
   "number_sections": true,
   "sideBar": true,
   "skip_h1_title": false,
   "title_cell": "Table of Contents",
   "title_sidebar": "Contents",
   "toc_cell": false,
   "toc_position": {},
   "toc_section_display": true,
   "toc_window_display": false
  },
  "varInspector": {
   "cols": {
    "lenName": 16,
    "lenType": 16,
    "lenVar": 40
   },
   "kernels_config": {
    "python": {
     "delete_cmd_postfix": "",
     "delete_cmd_prefix": "del ",
     "library": "var_list.py",
     "varRefreshCmd": "print(var_dic_list())"
    },
    "r": {
     "delete_cmd_postfix": ") ",
     "delete_cmd_prefix": "rm(",
     "library": "var_list.r",
     "varRefreshCmd": "cat(var_dic_list()) "
    }
   },
   "types_to_exclude": [
    "module",
    "function",
    "builtin_function_or_method",
    "instance",
    "_Feature"
   ],
   "window_display": false
  }
 },
 "nbformat": 4,
 "nbformat_minor": 2
}
